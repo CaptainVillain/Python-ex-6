{
 "cells": [
  {
   "cell_type": "markdown",
   "metadata": {},
   "source": [
    "## Part 1: collecting data"
   ]
  },
  {
   "cell_type": "markdown",
   "metadata": {},
   "source": [
    "Do not run first two code cells."
   ]
  },
  {
   "cell_type": "markdown",
   "metadata": {},
   "source": [
    "### webget"
   ]
  },
  {
   "cell_type": "code",
   "execution_count": null,
   "metadata": {},
   "outputs": [],
   "source": [
    "import shutil\n",
    "import urllib.request as urlreq\n",
    "from urllib.parse import urlparse\n",
    "\n",
    "def download(url, to=None):\n",
    "    if to == None:\n",
    "        file_name = urlparse(url).path.split('/')[-1]\n",
    "    else:\n",
    "        file_name = to + urlparse(url).path.split('/')[-1]\n",
    "    with urlreq.urlopen(url) as response, open(file_name, 'wb') as out_file:\n",
    "        shutil.copyfileobj(response, out_file)\n",
    "    return file_name"
   ]
  },
  {
   "cell_type": "markdown",
   "metadata": {},
   "source": [
    "### unzip(gzip only)"
   ]
  },
  {
   "cell_type": "code",
   "execution_count": null,
   "metadata": {},
   "outputs": [],
   "source": [
    "import shutil\n",
    "import gzip\n",
    "\n",
    "#unzip takes a compressed file and a name FOR the file as input\n",
    "def unzipfile(file, name):\n",
    "    with gzip.open(file, 'r') as tar_ref:\n",
    "        with open(name, 'wb') as f_out:\n",
    "            shutil.copyfileobj(tar_ref, f_out)"
   ]
  },
  {
   "cell_type": "markdown",
   "metadata": {},
   "source": [
    "### Run below for data import"
   ]
  },
  {
   "cell_type": "code",
   "execution_count": 1,
   "metadata": {},
   "outputs": [
    {
     "name": "stdout",
     "output_type": "stream",
     "text": [
      "verify run\n"
     ]
    }
   ],
   "source": [
    "%matplotlib inline\n",
    "import webget\n",
    "import unzipfile\n",
    "\n",
    "url = 'https://snap.stanford.edu/data/facebook_combined.txt.gz'\n",
    "name = 'facebookdata.txt'\n",
    "\n",
    "unzipfile.unzipfile(webget.download(url),name)\n",
    "print('verify run')"
   ]
  },
  {
   "cell_type": "markdown",
   "metadata": {},
   "source": [
    "### Undirected graph"
   ]
  },
  {
   "cell_type": "code",
   "execution_count": 2,
   "metadata": {},
   "outputs": [
    {
     "name": "stdout",
     "output_type": "stream",
     "text": [
      "verify run\n"
     ]
    }
   ],
   "source": [
    "import networkx as nx\n",
    "import matplotlib.pyplot as plt\n",
    "from networkx.drawing.nx_agraph import graphviz_layout, write_dot\n",
    "\n",
    "G = nx.read_edgelist('facebookdata.txt')\n",
    "nx.info(G)\n",
    "print('verify run')"
   ]
  },
  {
   "cell_type": "code",
   "execution_count": null,
   "metadata": {},
   "outputs": [],
   "source": [
    "nx.draw(G)"
   ]
  },
  {
   "cell_type": "code",
   "execution_count": null,
   "metadata": {},
   "outputs": [],
   "source": []
  }
 ],
 "metadata": {
  "kernelspec": {
   "display_name": "Python 3",
   "language": "python",
   "name": "python3"
  },
  "language_info": {
   "codemirror_mode": {
    "name": "ipython",
    "version": 3
   },
   "file_extension": ".py",
   "mimetype": "text/x-python",
   "name": "python",
   "nbconvert_exporter": "python",
   "pygments_lexer": "ipython3",
   "version": "3.7.1"
  }
 },
 "nbformat": 4,
 "nbformat_minor": 2
}
